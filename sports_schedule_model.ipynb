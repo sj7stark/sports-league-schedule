{
 "cells": [
  {
   "cell_type": "markdown",
   "metadata": {},
   "source": [
    "# Simple Sports/eSports League Scheduling Model"
   ]
  },
  {
   "cell_type": "markdown",
   "metadata": {},
   "source": [
    "This notebook contains a model for creating a schedule for a simple sports league. I used this problem to create a schedule for a Pokemon Draft League for a group of YouTubers."
   ]
  },
  {
   "cell_type": "markdown",
   "metadata": {},
   "source": [
    "# Problem Definition"
   ]
  },
  {
   "cell_type": "markdown",
   "metadata": {},
   "source": [
    "Consider a sports style league with the following characteristics:\n",
    "* There are 16 teams\n",
    "* There are 10 weeks in the season\n",
    "* Each team plays 1 match each week\n",
    "* Each match has a home team and an away team\n",
    "* Each team has 5 home games and 5 away games throughout the season\n",
    "* Two teams can only face-off against each other at most once in a season"
   ]
  },
  {
   "cell_type": "markdown",
   "metadata": {},
   "source": [
    "# Model Formulation"
   ]
  },
  {
   "cell_type": "markdown",
   "metadata": {},
   "source": [
    "## Sets"
   ]
  },
  {
   "cell_type": "markdown",
   "metadata": {},
   "source": [
    "$ w \\in W$: The set of weeks (time periods) \\\n",
    "$ t \\in T$: The set of teams"
   ]
  },
  {
   "cell_type": "markdown",
   "metadata": {},
   "source": [
    "## Decision Variables"
   ]
  },
  {
   "cell_type": "markdown",
   "metadata": {},
   "source": [
    "$ x_{wha}$: A binary variable that equals 1 if team $h \\in T$ is home against team $a \\in T, a \\neq h$, during week $ w \\in W$ and 0 otherwise"
   ]
  },
  {
   "cell_type": "markdown",
   "metadata": {},
   "source": [
    "## Model"
   ]
  },
  {
   "cell_type": "markdown",
   "metadata": {},
   "source": [
    "### Objective Function"
   ]
  },
  {
   "cell_type": "markdown",
   "metadata": {},
   "source": [
    "$Min \\space \\space 0 \\qquad$  (there is no objective, we just want a feasible schedule)"
   ]
  },
  {
   "cell_type": "markdown",
   "metadata": {},
   "source": [
    "### Constraints"
   ]
  },
  {
   "cell_type": "markdown",
   "metadata": {},
   "source": [
    "Each team plays exactly one match each week:\n",
    "\n",
    "$$ \\sum_{a \\in T, a \\neq i} x_{wia} + \\sum_{h \\in T, h \\neq i} x_{whi} = 1, \\qquad \\forall w \\in W, i \\in T$$ \n",
    "\n",
    "Each team is the home team 5 times throughout the season:\n",
    "\n",
    "$$ \\sum_{w \\in W}\\sum_{a \\in T, a \\neq i} x_{wia} = 5, \\qquad \\forall i \\in T$$\n",
    "\n",
    "Each team is the away team 5 times throughout the season:\n",
    "\n",
    "$$ \\sum_{w \\in W}\\sum_{h \\in T, h \\neq i} x_{whi} = 5, \\qquad \\forall i \\in T$$\n",
    "\n",
    "Two teams can only face off against each other at most once during the season:\n",
    "\n",
    "$$ \\sum_{w \\in W} x_{wij} + \\sum_{w \\in W} x_{wji} \\leq 1, \\qquad \\forall i \\in T, j \\in T, j \\neq i$$ "
   ]
  },
  {
   "cell_type": "markdown",
   "metadata": {},
   "source": [
    "# Import PuLP"
   ]
  },
  {
   "cell_type": "markdown",
   "metadata": {},
   "source": [
    "PuLP is a great Python Library for formulating mixed integer programs"
   ]
  },
  {
   "cell_type": "code",
   "execution_count": 1,
   "metadata": {},
   "outputs": [],
   "source": [
    "import pulp"
   ]
  },
  {
   "cell_type": "markdown",
   "metadata": {},
   "source": [
    "# Sets"
   ]
  },
  {
   "cell_type": "markdown",
   "metadata": {},
   "source": [
    "$ t \\in T$: The set of teams"
   ]
  },
  {
   "cell_type": "code",
   "execution_count": 2,
   "metadata": {},
   "outputs": [],
   "source": [
    "T = [\"AshtonCox\",\n",
    "     \"ck49\",\n",
    "     \"Fevzi\",\n",
    "     \"JinFurai\",\n",
    "     \"JoeUX9\",\n",
    "     \"Mandby\",\n",
    "     \"MoxieBoosted\",\n",
    "     \"Nekkra\",\n",
    "     \"NinoPokeBros\",\n",
    "     \"OsirusVGC\",\n",
    "     \"PKMNcast\",\n",
    "     \"PokeAlex\",\n",
    "     \"SierraDawn\",\n",
    "     \"StephOfAnime\",\n",
    "     \"TheBattleRoom\",\n",
    "     \"Viz\"]"
   ]
  },
  {
   "cell_type": "markdown",
   "metadata": {},
   "source": [
    "$ w \\in W$: The set of weeks (time periods)"
   ]
  },
  {
   "cell_type": "code",
   "execution_count": 3,
   "metadata": {},
   "outputs": [],
   "source": [
    "W = range(1,11)"
   ]
  },
  {
   "cell_type": "markdown",
   "metadata": {},
   "source": [
    "# Decision Variables"
   ]
  },
  {
   "cell_type": "markdown",
   "metadata": {},
   "source": [
    "$ x_{wha}$: A binary variable that equals 1 if team $h \\in T$ is home against team $a \\in T, a \\neq h$, during week $ w \\in W$ and 0 otherwise"
   ]
  },
  {
   "cell_type": "code",
   "execution_count": 4,
   "metadata": {},
   "outputs": [],
   "source": [
    "x = pulp.LpVariable.dicts('x',(W,T,T),cat=pulp.LpBinary)"
   ]
  },
  {
   "cell_type": "markdown",
   "metadata": {},
   "source": [
    "The previous cell created extra decision variables that we don't want. These are $ x_{wha}$ variables in which $h=a$. Because a team cannot play against itself, we need to remove them."
   ]
  },
  {
   "cell_type": "code",
   "execution_count": 5,
   "metadata": {},
   "outputs": [],
   "source": [
    "for w in W:\n",
    "    \n",
    "    for h in T:\n",
    "        \n",
    "        for a in T:\n",
    "            \n",
    "            if h == a:\n",
    "                \n",
    "                del x[w][h][a]"
   ]
  },
  {
   "cell_type": "markdown",
   "metadata": {},
   "source": [
    "# Create the Problem in PuLP"
   ]
  },
  {
   "cell_type": "code",
   "execution_count": 6,
   "metadata": {},
   "outputs": [],
   "source": [
    "schedule = pulp.LpProblem(\"Schedule\",pulp.LpMinimize)"
   ]
  },
  {
   "cell_type": "markdown",
   "metadata": {},
   "source": [
    "# Create the Objective Function"
   ]
  },
  {
   "cell_type": "markdown",
   "metadata": {},
   "source": [
    "We are only concerned about creating a schedule that satisfies all of the constraints. We are not optimizing anything. Thus, we can simply set the objective function to 0."
   ]
  },
  {
   "cell_type": "code",
   "execution_count": 7,
   "metadata": {},
   "outputs": [],
   "source": [
    "schedule += 0"
   ]
  },
  {
   "cell_type": "markdown",
   "metadata": {},
   "source": [
    "# Constraints"
   ]
  },
  {
   "cell_type": "markdown",
   "metadata": {},
   "source": [
    "Each team plays exactly one match each week:\n",
    "\n",
    "$$ \\sum_{a \\in T, a \\neq i} x_{wia} + \\sum_{h \\in T, h \\neq i} x_{whi} = 1, \\qquad \\forall w \\in W, i \\in T$$ "
   ]
  },
  {
   "cell_type": "code",
   "execution_count": 8,
   "metadata": {},
   "outputs": [],
   "source": [
    "for w in W:\n",
    "    \n",
    "    for i in T:\n",
    "        \n",
    "        schedule += pulp.lpSum(x[w][i][a] for a in T if a != i) + pulp.lpSum(x[w][h][i] for h in T if h != i) == 1"
   ]
  },
  {
   "cell_type": "markdown",
   "metadata": {},
   "source": [
    "Each team is the home team 5 times throughout the season:\n",
    "\n",
    "$$ \\sum_{w \\in W}\\sum_{a \\in T, a \\neq i} x_{wia} = 5, \\qquad \\forall i \\in T$$"
   ]
  },
  {
   "cell_type": "code",
   "execution_count": 9,
   "metadata": {},
   "outputs": [],
   "source": [
    "for i in T:\n",
    "    \n",
    "    schedule += pulp.lpSum(x[w][i][a] for w in W for a in T if a != i) == 5"
   ]
  },
  {
   "cell_type": "markdown",
   "metadata": {},
   "source": [
    "Each team is the away team 5 times throughout the season:\n",
    "\n",
    "$$ \\sum_{w \\in W}\\sum_{h \\in T, h \\neq i} x_{whi} = 5, \\qquad \\forall i \\in T$$"
   ]
  },
  {
   "cell_type": "code",
   "execution_count": 10,
   "metadata": {},
   "outputs": [],
   "source": [
    "for i in T:\n",
    "    \n",
    "    schedule += pulp.lpSum(x[w][h][i] for w in W for h in T if h != i) == 5"
   ]
  },
  {
   "cell_type": "markdown",
   "metadata": {},
   "source": [
    "Two teams can only face off against each other at most once during the season:\n",
    "\n",
    "$$ \\sum_{w \\in W} x_{wij} + \\sum_{w \\in W} x_{wji} \\leq 1, \\qquad \\forall i \\in T, j \\in T, j \\neq i$$ "
   ]
  },
  {
   "cell_type": "code",
   "execution_count": 11,
   "metadata": {},
   "outputs": [],
   "source": [
    "for i in T:\n",
    "    \n",
    "    for j in T:\n",
    "        \n",
    "        if j != i:\n",
    "            \n",
    "            schedule += pulp.lpSum(x[w][i][j] for w in W) + pulp.lpSum(x[w][j][i] for w in W) <= 1"
   ]
  },
  {
   "cell_type": "markdown",
   "metadata": {},
   "source": [
    "# Solve the Problem"
   ]
  },
  {
   "cell_type": "code",
   "execution_count": 12,
   "metadata": {},
   "outputs": [
    {
     "data": {
      "text/plain": [
       "1"
      ]
     },
     "execution_count": 12,
     "metadata": {},
     "output_type": "execute_result"
    }
   ],
   "source": [
    "schedule.solve()"
   ]
  },
  {
   "cell_type": "markdown",
   "metadata": {},
   "source": [
    "# Print the results"
   ]
  },
  {
   "cell_type": "code",
   "execution_count": 13,
   "metadata": {},
   "outputs": [
    {
     "name": "stdout",
     "output_type": "stream",
     "text": [
      "Week: 1  AshtonCox vs. Viz\n",
      "Week: 1  JinFurai vs. Nekkra\n",
      "Week: 1  JoeUX9 vs. StephOfAnime\n",
      "Week: 1  Mandby vs. Fevzi\n",
      "Week: 1  MoxieBoosted vs. PKMNcast\n",
      "Week: 1  PokeAlex vs. OsirusVGC\n",
      "Week: 1  SierraDawn vs. NinoPokeBros\n",
      "Week: 1  TheBattleRoom vs. ck49\n",
      "\n",
      "Week: 2  ck49 vs. PKMNcast\n",
      "Week: 2  Fevzi vs. StephOfAnime\n",
      "Week: 2  Mandby vs. NinoPokeBros\n",
      "Week: 2  MoxieBoosted vs. AshtonCox\n",
      "Week: 2  Nekkra vs. TheBattleRoom\n",
      "Week: 2  OsirusVGC vs. JinFurai\n",
      "Week: 2  SierraDawn vs. JoeUX9\n",
      "Week: 2  Viz vs. PokeAlex\n",
      "\n",
      "Week: 3  AshtonCox vs. Fevzi\n",
      "Week: 3  ck49 vs. Viz\n",
      "Week: 3  JinFurai vs. NinoPokeBros\n",
      "Week: 3  JoeUX9 vs. OsirusVGC\n",
      "Week: 3  Mandby vs. MoxieBoosted\n",
      "Week: 3  PKMNcast vs. SierraDawn\n",
      "Week: 3  PokeAlex vs. Nekkra\n",
      "Week: 3  StephOfAnime vs. TheBattleRoom\n",
      "\n",
      "Week: 4  AshtonCox vs. ck49\n",
      "Week: 4  Fevzi vs. Viz\n",
      "Week: 4  Nekkra vs. Mandby\n",
      "Week: 4  NinoPokeBros vs. OsirusVGC\n",
      "Week: 4  PKMNcast vs. JoeUX9\n",
      "Week: 4  PokeAlex vs. MoxieBoosted\n",
      "Week: 4  StephOfAnime vs. JinFurai\n",
      "Week: 4  TheBattleRoom vs. SierraDawn\n",
      "\n",
      "Week: 5  Fevzi vs. ck49\n",
      "Week: 5  JinFurai vs. PokeAlex\n",
      "Week: 5  JoeUX9 vs. Mandby\n",
      "Week: 5  OsirusVGC vs. AshtonCox\n",
      "Week: 5  PKMNcast vs. NinoPokeBros\n",
      "Week: 5  SierraDawn vs. StephOfAnime\n",
      "Week: 5  TheBattleRoom vs. MoxieBoosted\n",
      "Week: 5  Viz vs. Nekkra\n",
      "\n",
      "Week: 6  ck49 vs. JinFurai\n",
      "Week: 6  MoxieBoosted vs. JoeUX9\n",
      "Week: 6  NinoPokeBros vs. Nekkra\n",
      "Week: 6  OsirusVGC vs. PKMNcast\n",
      "Week: 6  PokeAlex vs. AshtonCox\n",
      "Week: 6  StephOfAnime vs. Mandby\n",
      "Week: 6  TheBattleRoom vs. Fevzi\n",
      "Week: 6  Viz vs. SierraDawn\n",
      "\n",
      "Week: 7  AshtonCox vs. JinFurai\n",
      "Week: 7  Fevzi vs. PokeAlex\n",
      "Week: 7  JoeUX9 vs. TheBattleRoom\n",
      "Week: 7  Mandby vs. PKMNcast\n",
      "Week: 7  NinoPokeBros vs. MoxieBoosted\n",
      "Week: 7  SierraDawn vs. ck49\n",
      "Week: 7  StephOfAnime vs. Nekkra\n",
      "Week: 7  Viz vs. OsirusVGC\n",
      "\n",
      "Week: 8  ck49 vs. StephOfAnime\n",
      "Week: 8  JinFurai vs. JoeUX9\n",
      "Week: 8  MoxieBoosted vs. Viz\n",
      "Week: 8  Nekkra vs. SierraDawn\n",
      "Week: 8  NinoPokeBros vs. Fevzi\n",
      "Week: 8  OsirusVGC vs. Mandby\n",
      "Week: 8  PKMNcast vs. AshtonCox\n",
      "Week: 8  PokeAlex vs. TheBattleRoom\n",
      "\n",
      "Week: 9  JinFurai vs. Fevzi\n",
      "Week: 9  JoeUX9 vs. ck49\n",
      "Week: 9  Mandby vs. AshtonCox\n",
      "Week: 9  Nekkra vs. MoxieBoosted\n",
      "Week: 9  NinoPokeBros vs. StephOfAnime\n",
      "Week: 9  OsirusVGC vs. TheBattleRoom\n",
      "Week: 9  SierraDawn vs. PokeAlex\n",
      "Week: 9  Viz vs. PKMNcast\n",
      "\n",
      "Week: 10  AshtonCox vs. NinoPokeBros\n",
      "Week: 10  ck49 vs. Mandby\n",
      "Week: 10  Fevzi vs. JoeUX9\n",
      "Week: 10  MoxieBoosted vs. SierraDawn\n",
      "Week: 10  Nekkra vs. OsirusVGC\n",
      "Week: 10  PKMNcast vs. JinFurai\n",
      "Week: 10  StephOfAnime vs. PokeAlex\n",
      "Week: 10  TheBattleRoom vs. Viz\n",
      "\n"
     ]
    }
   ],
   "source": [
    "for w in W:\n",
    "    \n",
    "    for h in T:\n",
    "        \n",
    "        for a in T:\n",
    "            \n",
    "            if a != h:\n",
    "                \n",
    "                if x[w][h][a].value() == 1.0:\n",
    "                    \n",
    "                    \n",
    "                    week, home, away = x[w][h][a].getName().split('_')[1:]\n",
    "                    \n",
    "                    print(f'Week: {week}  {home} vs. {away}')\n",
    "                    \n",
    "    print()"
   ]
  }
 ],
 "metadata": {
  "kernelspec": {
   "display_name": "Python 3 (ipykernel)",
   "language": "python",
   "name": "python3"
  },
  "language_info": {
   "codemirror_mode": {
    "name": "ipython",
    "version": 3
   },
   "file_extension": ".py",
   "mimetype": "text/x-python",
   "name": "python",
   "nbconvert_exporter": "python",
   "pygments_lexer": "ipython3",
   "version": "3.8.12"
  }
 },
 "nbformat": 4,
 "nbformat_minor": 4
}
